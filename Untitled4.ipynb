{
 "cells": [
  {
   "cell_type": "code",
   "execution_count": 24,
   "id": "5e918989",
   "metadata": {},
   "outputs": [
    {
     "data": {
      "text/html": [
       "<div>\n",
       "<style scoped>\n",
       "    .dataframe tbody tr th:only-of-type {\n",
       "        vertical-align: middle;\n",
       "    }\n",
       "\n",
       "    .dataframe tbody tr th {\n",
       "        vertical-align: top;\n",
       "    }\n",
       "\n",
       "    .dataframe thead th {\n",
       "        text-align: right;\n",
       "    }\n",
       "</style>\n",
       "<table border=\"1\" class=\"dataframe\">\n",
       "  <thead>\n",
       "    <tr style=\"text-align: right;\">\n",
       "      <th></th>\n",
       "      <th>Year</th>\n",
       "      <th>City</th>\n",
       "      <th>Sport</th>\n",
       "      <th>Discipline</th>\n",
       "      <th>Athlete</th>\n",
       "      <th>Country</th>\n",
       "      <th>Gender</th>\n",
       "      <th>Event</th>\n",
       "      <th>Medal</th>\n",
       "    </tr>\n",
       "  </thead>\n",
       "  <tbody>\n",
       "    <tr>\n",
       "      <th>0</th>\n",
       "      <td>1896</td>\n",
       "      <td>Athens</td>\n",
       "      <td>Aquatics</td>\n",
       "      <td>Swimming</td>\n",
       "      <td>HAJOS, Alfred</td>\n",
       "      <td>HUN</td>\n",
       "      <td>Men</td>\n",
       "      <td>100M Freestyle</td>\n",
       "      <td>Gold</td>\n",
       "    </tr>\n",
       "    <tr>\n",
       "      <th>1</th>\n",
       "      <td>1896</td>\n",
       "      <td>Athens</td>\n",
       "      <td>Aquatics</td>\n",
       "      <td>Swimming</td>\n",
       "      <td>HERSCHMANN, Otto</td>\n",
       "      <td>AUT</td>\n",
       "      <td>Men</td>\n",
       "      <td>100M Freestyle</td>\n",
       "      <td>Silver</td>\n",
       "    </tr>\n",
       "    <tr>\n",
       "      <th>2</th>\n",
       "      <td>1896</td>\n",
       "      <td>Athens</td>\n",
       "      <td>Aquatics</td>\n",
       "      <td>Swimming</td>\n",
       "      <td>DRIVAS, Dimitrios</td>\n",
       "      <td>GRE</td>\n",
       "      <td>Men</td>\n",
       "      <td>100M Freestyle For Sailors</td>\n",
       "      <td>Bronze</td>\n",
       "    </tr>\n",
       "    <tr>\n",
       "      <th>3</th>\n",
       "      <td>1896</td>\n",
       "      <td>Athens</td>\n",
       "      <td>Aquatics</td>\n",
       "      <td>Swimming</td>\n",
       "      <td>MALOKINIS, Ioannis</td>\n",
       "      <td>GRE</td>\n",
       "      <td>Men</td>\n",
       "      <td>100M Freestyle For Sailors</td>\n",
       "      <td>Gold</td>\n",
       "    </tr>\n",
       "    <tr>\n",
       "      <th>4</th>\n",
       "      <td>1896</td>\n",
       "      <td>Athens</td>\n",
       "      <td>Aquatics</td>\n",
       "      <td>Swimming</td>\n",
       "      <td>CHASAPIS, Spiridon</td>\n",
       "      <td>GRE</td>\n",
       "      <td>Men</td>\n",
       "      <td>100M Freestyle For Sailors</td>\n",
       "      <td>Silver</td>\n",
       "    </tr>\n",
       "  </tbody>\n",
       "</table>\n",
       "</div>"
      ],
      "text/plain": [
       "   Year    City     Sport Discipline             Athlete Country Gender  \\\n",
       "0  1896  Athens  Aquatics   Swimming       HAJOS, Alfred     HUN    Men   \n",
       "1  1896  Athens  Aquatics   Swimming    HERSCHMANN, Otto     AUT    Men   \n",
       "2  1896  Athens  Aquatics   Swimming   DRIVAS, Dimitrios     GRE    Men   \n",
       "3  1896  Athens  Aquatics   Swimming  MALOKINIS, Ioannis     GRE    Men   \n",
       "4  1896  Athens  Aquatics   Swimming  CHASAPIS, Spiridon     GRE    Men   \n",
       "\n",
       "                        Event   Medal  \n",
       "0              100M Freestyle    Gold  \n",
       "1              100M Freestyle  Silver  \n",
       "2  100M Freestyle For Sailors  Bronze  \n",
       "3  100M Freestyle For Sailors    Gold  \n",
       "4  100M Freestyle For Sailors  Silver  "
      ]
     },
     "execution_count": 24,
     "metadata": {},
     "output_type": "execute_result"
    }
   ],
   "source": [
    "import numpy as np\n",
    "import matplotlib.pyplot as plt\n",
    "import pandas as pd\n",
    "%matplotlib inline\n",
    "db1=pd.read_csv(\"olympic.csv\")\n",
    "db1.head()"
   ]
  },
  {
   "cell_type": "markdown",
   "id": "b554940f",
   "metadata": {},
   "source": [
    "Gathering the country names and the medals won respectively \n"
   ]
  },
  {
   "cell_type": "code",
   "execution_count": 2,
   "id": "bb4ed31c",
   "metadata": {},
   "outputs": [
    {
     "name": "stdout",
     "output_type": "stream",
     "text": [
      "['AUT' 'GRE' 'GRE' 'GRE' 'HUN']\n"
     ]
    },
    {
     "data": {
      "text/plain": [
       "{'AUT': 146, 'GRE': 148, 'HUN': 1079}"
      ]
     },
     "execution_count": 2,
     "metadata": {},
     "output_type": "execute_result"
    }
   ],
   "source": [
    "country_names=np.array(db1[\"Country\"][0:5].sort_values()) \n",
    "print(country_names) \n",
    "country_medals={} \n",
    "for i in country_names: \n",
    "    count=db1[db1.Country==i].Medal.count() \n",
    "    country_medals[i]=count \n",
    "country_medals"
   ]
  },
  {
   "cell_type": "markdown",
   "id": "6d4b0609",
   "metadata": {},
   "source": [
    "Plotting graph"
   ]
  },
  {
   "cell_type": "code",
   "execution_count": 3,
   "id": "729e8eb3",
   "metadata": {},
   "outputs": [
    {
     "data": {
      "image/png": "[encoded data removed]",
      "text/plain": [
       "<Figure size 432x288 with 1 Axes>"
      ]
     },
     "metadata": {
      "needs_background": "light"
     },
     "output_type": "display_data"
    }
   ],
   "source": [
    "country=[]\n",
    "medals=[]\n",
    "for i in country_medals:\n",
    "    country.append(i)\n",
    "    medals.append(country_medals[i])\n",
    "\n",
    "    \n",
    "plt.scatter(country,medals,marker='o')\n",
    "plt.ylabel(\"Medals\")\n",
    "plt.xlabel(\"Countries\")\n",
    "plt.minorticks_on()\n",
    "plt.grid(which=\"major\",axis=\"both\",c=\"Blue\")\n",
    "plt.grid(which=\"minor\",axis=\"both\",c=\"Green\")\n",
    "\n",
    "plt.xticks(rotation=60)\n",
    "plt.show()"
   ]
  },
  {
   "cell_type": "markdown",
   "id": "2426418a",
   "metadata": {},
   "source": [
    "{'AUT': 146, 'GRE': 148, 'HUN': 1079}\n",
    "countries and thier respective men and women gold"
   ]
  },
  {
   "cell_type": "code",
   "execution_count": 4,
   "id": "a1965454",
   "metadata": {},
   "outputs": [
    {
     "data": {
      "image/png": "[encoded data removed]",
      "text/plain": [
       "<Figure size 432x288 with 1 Axes>"
      ]
     },
     "metadata": {
      "needs_background": "light"
     },
     "output_type": "display_data"
    }
   ],
   "source": [
    "country=[]\n",
    "medals=[]\n",
    "for i in country_medals:\n",
    "    country.append(i)\n",
    "    medals.append(country_medals[i])\n",
    "plt.plot(country,medals)\n",
    "plt.show()"
   ]
  },
  {
   "cell_type": "code",
   "execution_count": 5,
   "id": "b3bdbd90",
   "metadata": {},
   "outputs": [
    {
     "data": {
      "text/plain": [
       "{1079: 'HUN',\n",
       " 146: 'AUT',\n",
       " 148: 'GRE',\n",
       " 4585: 'USA',\n",
       " 1305: 'GER',\n",
       " 1720: 'GBR',\n",
       " 1396: 'FRA',\n",
       " 1189: 'AUS',\n",
       " 507: 'DEN',\n",
       " 380: 'SUI',\n",
       " 48: 'ZZX',\n",
       " 851: 'NED',\n",
       " 411: 'BEL',\n",
       " 184: 'IND',\n",
       " 649: 'CAN',\n",
       " 7: 'UGA',\n",
       " 1044: 'SWE',\n",
       " 554: 'NOR',\n",
       " 442: 'ESP',\n",
       " 1296: 'ITA',\n",
       " 410: 'CUB',\n",
       " 29: 'ANZ',\n",
       " 106: 'MEX',\n",
       " 456: 'FIN',\n",
       " 17: 'ISL',\n",
       " 39: 'EST',\n",
       " 329: 'TCH',\n",
       " 190: 'NZL',\n",
       " 431: 'BRA',\n",
       " 788: 'JPN',\n",
       " 2: 'AFG',\n",
       " 259: 'ARG',\n",
       " 511: 'POL',\n",
       " 33: 'POR',\n",
       " 76: 'URU',\n",
       " 435: 'YUG',\n",
       " 640: 'ROU',\n",
       " 8: 'PUR',\n",
       " 28: 'EGY',\n",
       " 9: 'PHI',\n",
       " 30: 'IRL',\n",
       " 20: 'UZB',\n",
       " 86: 'TUR',\n",
       " 3: 'TJK',\n",
       " 127: 'JAM',\n",
       " 529: 'KOR',\n",
       " 15: 'ALG',\n",
       " 61: 'IRI',\n",
       " 2049: 'URS',\n",
       " 12: 'VEN',\n",
       " 333: 'BUL',\n",
       " 4: 'SGP',\n",
       " 260: 'EUA',\n",
       " 121: 'PAK',\n",
       " 27: 'BAH',\n",
       " 5: 'BWI',\n",
       " 44: 'TPE',\n",
       " 45: 'ETH',\n",
       " 22: 'MAR',\n",
       " 16: 'GHA',\n",
       " 1: 'GAB',\n",
       " 10: 'TTO',\n",
       " 93: 'KEN',\n",
       " 84: 'NGR',\n",
       " 825: 'GDR',\n",
       " 490: 'FRG',\n",
       " 23: 'CMR',\n",
       " 24: 'MGL',\n",
       " 58: 'PRK',\n",
       " 19: 'COL',\n",
       " 25: 'GEO',\n",
       " 807: 'CHN',\n",
       " 6: 'KSA',\n",
       " 38: 'INA',\n",
       " 223: 'EUN',\n",
       " 55: 'LTU',\n",
       " 114: 'CRO',\n",
       " 26: 'AZE',\n",
       " 768: 'RUS',\n",
       " 173: 'UKR',\n",
       " 56: 'CZE',\n",
       " 113: 'BLR',\n",
       " 49: 'KAZ',\n",
       " 34: 'SVK',\n",
       " 11: 'ARM',\n",
       " 14: 'MNE',\n",
       " 31: 'SRB',\n",
       " 0: nan}"
      ]
     },
     "execution_count": 5,
     "metadata": {},
     "output_type": "execute_result"
    }
   ],
   "source": [
    "import numpy as np\n",
    "import pandas as pd\n",
    "import matplotlib.pyplot as plt\n",
    "db1=pd.read_csv(\"olympic.csv\")\n",
    "db1\n",
    "dbnew=[]\n",
    "a=pd.Series(db1[\"Country\"])\n",
    "for i in a:\n",
    "    dbnew.append(i)\n",
    "medal_count={}\n",
    "for i in dbnew:\n",
    "    medal_count[db1[db1.Country==i].Medal.count()]=i\n",
    "\n",
    "medal_count"
   ]
  },
  {
   "cell_type": "code",
   "execution_count": 6,
   "id": "fa528566",
   "metadata": {},
   "outputs": [
    {
     "data": {
      "text/plain": [
       "[nan,\n",
       " 'GAB',\n",
       " 'AFG',\n",
       " 'TJK',\n",
       " 'SGP',\n",
       " 'BWI',\n",
       " 'KSA',\n",
       " 'UGA',\n",
       " 'PUR',\n",
       " 'PHI',\n",
       " 'TTO',\n",
       " 'ARM',\n",
       " 'VEN',\n",
       " 'MNE',\n",
       " 'ALG',\n",
       " 'GHA',\n",
       " 'ISL',\n",
       " 'COL',\n",
       " 'UZB',\n",
       " 'MAR',\n",
       " 'CMR',\n",
       " 'MGL',\n",
       " 'GEO',\n",
       " 'AZE',\n",
       " 'BAH',\n",
       " 'EGY',\n",
       " 'ANZ',\n",
       " 'IRL',\n",
       " 'SRB',\n",
       " 'POR',\n",
       " 'SVK',\n",
       " 'INA',\n",
       " 'EST',\n",
       " 'TPE',\n",
       " 'ETH',\n",
       " 'ZZX',\n",
       " 'KAZ',\n",
       " 'LTU',\n",
       " 'CZE',\n",
       " 'PRK',\n",
       " 'IRI',\n",
       " 'URU',\n",
       " 'NGR',\n",
       " 'TUR',\n",
       " 'KEN',\n",
       " 'MEX',\n",
       " 'BLR',\n",
       " 'CRO',\n",
       " 'PAK',\n",
       " 'JAM',\n",
       " 'AUT',\n",
       " 'GRE',\n",
       " 'UKR',\n",
       " 'IND',\n",
       " 'NZL',\n",
       " 'EUN',\n",
       " 'ARG',\n",
       " 'EUA',\n",
       " 'TCH',\n",
       " 'BUL',\n",
       " 'SUI',\n",
       " 'CUB',\n",
       " 'BEL',\n",
       " 'BRA',\n",
       " 'YUG',\n",
       " 'ESP',\n",
       " 'FIN',\n",
       " 'FRG',\n",
       " 'DEN',\n",
       " 'POL',\n",
       " 'KOR',\n",
       " 'NOR',\n",
       " 'ROU',\n",
       " 'CAN',\n",
       " 'RUS',\n",
       " 'JPN',\n",
       " 'CHN',\n",
       " 'GDR',\n",
       " 'NED',\n",
       " 'SWE',\n",
       " 'HUN',\n",
       " 'AUS',\n",
       " 'ITA',\n",
       " 'GER',\n",
       " 'FRA',\n",
       " 'GBR',\n",
       " 'URS',\n",
       " 'USA']"
      ]
     },
     "execution_count": 6,
     "metadata": {},
     "output_type": "execute_result"
    }
   ],
   "source": [
    "count=0\n",
    "medal=[]\n",
    "country=[]\n",
    "for i in sorted(medal_count):\n",
    "    medal.append(i)\n",
    "    country.append(medal_count[i])\n",
    "country"
   ]
  },
  {
   "cell_type": "code",
   "execution_count": 7,
   "id": "1aa6ac99",
   "metadata": {},
   "outputs": [
    {
     "name": "stdout",
     "output_type": "stream",
     "text": [
      "[4585, 2049, 1720, 1396, 1305, 1296, 1189, 1079, 1044]\n",
      "['USA', 'URS', 'GBR', 'FRA', 'GER', 'ITA', 'AUS', 'HUN', 'SWE']\n"
     ]
    }
   ],
   "source": [
    "medaln=[]\n",
    "countryn=[]\n",
    "for i in range(-1,-10,-1):\n",
    "    medaln.append(medal[i])\n",
    "    countryn.append(country[i])\n",
    "print(medaln)\n",
    "print(countryn)"
   ]
  },
  {
   "cell_type": "markdown",
   "id": "954f9b5b",
   "metadata": {},
   "source": [
    "Graph for medals won by top 10 Countries"
   ]
  },
  {
   "cell_type": "code",
   "execution_count": 8,
   "id": "e21bdec5",
   "metadata": {},
   "outputs": [
    {
     "data": {
      "image/png": "[encoded data removed]",
      "text/plain": [
       "<Figure size 432x288 with 1 Axes>"
      ]
     },
     "metadata": {
      "needs_background": "light"
     },
     "output_type": "display_data"
    }
   ],
   "source": [
    "plt.scatter(countryn,medaln,color=\"Red\")\n",
    "plt.xlabel(\"Countries\")\n",
    "plt.ylabel(\"Medals\")\n",
    "plt.minorticks_on()\n",
    "plt.grid(which=\"major\",axis=\"both\",c=\"#249CD5\")\n",
    "plt.grid(which=\"minor\",axis=\"both\",c=\"#EE9DEB\")\n",
    "plt.show()"
   ]
  },
  {
   "cell_type": "code",
   "execution_count": 9,
   "id": "52fece10",
   "metadata": {},
   "outputs": [
    {
     "name": "stdout",
     "output_type": "stream",
     "text": [
      "USA\n",
      "URS\n",
      "GBR\n",
      "FRA\n",
      "GER\n",
      "ITA\n",
      "AUS\n",
      "HUN\n",
      "SWE\n"
     ]
    },
    {
     "data": {
      "text/plain": [
       "[3208, 1476, 1412, 1254, 916, 1161, 696, 834, 953]"
      ]
     },
     "execution_count": 9,
     "metadata": {},
     "output_type": "execute_result"
    }
   ],
   "source": [
    "medal_men=[]\n",
    "for i in countryn:\n",
    "    medal_men.append(db1[(db1.Country==i) & (db1.Gender==\"Men\")].Medal.count())\n",
    "    print(i)\n",
    "medal_men"
   ]
  },
  {
   "cell_type": "markdown",
   "id": "f9caaa1c",
   "metadata": {},
   "source": [
    "Graph for medals won by Men By top 10 Countries"
   ]
  },
  {
   "cell_type": "code",
   "execution_count": 10,
   "id": "e12d4ea3",
   "metadata": {},
   "outputs": [
    {
     "data": {
      "image/png": "[encoded data removed]",
      "text/plain": [
       "<Figure size 432x288 with 1 Axes>"
      ]
     },
     "metadata": {
      "needs_background": "light"
     },
     "output_type": "display_data"
    }
   ],
   "source": [
    "plt.scatter(countryn,medal_men,color=\"Red\")\n",
    "plt.xlabel(\"Countries\")\n",
    "plt.ylabel(\"Medals Won By Men\")\n",
    "plt.minorticks_on()\n",
    "plt.grid(which=\"major\",axis=\"both\",c=\"#006400\")\n",
    "plt.grid(which=\"minor\",axis=\"both\",c=\"#EE9DEB\")\n",
    "plt.show()"
   ]
  },
  {
   "cell_type": "code",
   "execution_count": 11,
   "id": "c53e87b2",
   "metadata": {},
   "outputs": [
    {
     "name": "stdout",
     "output_type": "stream",
     "text": [
      "USA\n",
      "URS\n",
      "GBR\n",
      "FRA\n",
      "GER\n",
      "ITA\n",
      "AUS\n",
      "HUN\n",
      "SWE\n"
     ]
    },
    {
     "data": {
      "text/plain": [
       "[1377, 573, 308, 142, 389, 135, 493, 245, 91]"
      ]
     },
     "execution_count": 11,
     "metadata": {},
     "output_type": "execute_result"
    }
   ],
   "source": [
    "medal_women=[]\n",
    "for i in countryn:\n",
    "    medal_women.append(db1[(db1.Country==i) & (db1.Gender==\"Women\")].Medal.count())\n",
    "    print(i)\n",
    "medal_women"
   ]
  },
  {
   "cell_type": "markdown",
   "id": "b846921e",
   "metadata": {},
   "source": [
    "Graph for medals won by Women By top 10 Countries"
   ]
  },
  {
   "cell_type": "code",
   "execution_count": 12,
   "id": "e51ad9f6",
   "metadata": {},
   "outputs": [
    {
     "data": {
      "image/png": "[encoded data removed]",
      "text/plain": [
       "<Figure size 432x288 with 1 Axes>"
      ]
     },
     "metadata": {
      "needs_background": "light"
     },
     "output_type": "display_data"
    }
   ],
   "source": [
    "plt.scatter(countryn,medal_women,color=\"Red\")\n",
    "plt.xlabel(\"Countries\")\n",
    "plt.ylabel(\"Medals Won By Women\")\n",
    "plt.minorticks_on()\n",
    "plt.grid(which=\"major\",axis=\"both\",c=\"#006400\")\n",
    "plt.grid(which=\"minor\",axis=\"both\",c=\"#EE9DEB\")\n",
    "plt.show()"
   ]
  },
  {
   "cell_type": "markdown",
   "id": "dca74863",
   "metadata": {},
   "source": [
    "Comparison of medals won by men and women by the respective countries"
   ]
  },
  {
   "cell_type": "code",
   "execution_count": 21,
   "id": "d6b87560",
   "metadata": {},
   "outputs": [
    {
     "data": {
      "image/png": "[encoded data removed]",
      "text/plain": [
       "<Figure size 432x288 with 1 Axes>"
      ]
     },
     "metadata": {
      "needs_background": "light"
     },
     "output_type": "display_data"
    }
   ],
   "source": [
    "plt.plot(countryn,medal_women,label=\"Medals by Women\",color=\"Red\",marker=\".\");\n",
    "plt.plot(countryn,medal_men,color=\"Blue\",marker=\".\",label=\"Medals by Men\");\n",
    "plt.minorticks_on();\n",
    "plt.grid(which=\"major\",axis=\"both\",c=\"#006400\");\n",
    "plt.grid(which=\"minor\",axis=\"both\",c=\"#EE9DEB\");\n",
    "plt.xlabel(\"Countries\");\n",
    "plt.ylabel(\"Medals\");\n",
    "plt.legend();"
   ]
  },
  {
   "cell_type": "code",
   "execution_count": 39,
   "id": "d56b32d1",
   "metadata": {},
   "outputs": [
    {
     "name": "stdout",
     "output_type": "stream",
     "text": [
      "{1896: 0, 1900: 11, 1904: 12, 1908: 15, 1912: 30, 1916: 0, 1920: 43, 1924: 51, 1928: 95, 1932: 60, 1936: 84, 1940: 0, 1944: 0, 1948: 96, 1952: 139, 1956: 146, 1960: 145, 1964: 190, 1968: 212, 1972: 238, 1976: 381, 1980: 429, 1984: 486, 1988: 535, 1992: 600, 1996: 777, 2000: 889, 2004: 899, 2008: 932, 2012: 924}\n"
     ]
    }
   ],
   "source": [
    "dict1={}\n",
    "for i in range(1896,2013,4):\n",
    "    dict1[i]=db1[(db1.Year==i) & (db1.Gender==\"Women\")].Medal.count()\n",
    "print(dict1)"
   ]
  },
  {
   "cell_type": "code",
   "execution_count": 40,
   "id": "8b768cb0",
   "metadata": {},
   "outputs": [
    {
     "name": "stdout",
     "output_type": "stream",
     "text": [
      "{1896: 151, 1900: 501, 1904: 458, 1908: 789, 1912: 855, 1916: 0, 1920: 1255, 1924: 833, 1928: 615, 1932: 555, 1936: 791, 1940: 0, 1944: 0, 1948: 718, 1952: 750, 1956: 739, 1960: 737, 1964: 820, 1968: 819, 1972: 947, 1976: 924, 1980: 958, 1984: 973, 1988: 1011, 1992: 1105, 1996: 1082, 2000: 1126, 2004: 1099, 2008: 1110, 2012: 1025}\n"
     ]
    }
   ],
   "source": [
    "dict2={}\n",
    "for i in range(1896,2013,4):\n",
    "    dict2[i]=db1[(db1.Year==i) & (db1.Gender==\"Men\")].Medal.count()\n",
    "print(dict2)"
   ]
  },
  {
   "cell_type": "code",
   "execution_count": 41,
   "id": "91df5456",
   "metadata": {},
   "outputs": [
    {
     "name": "stdout",
     "output_type": "stream",
     "text": [
      "[0, 11, 12, 15, 30, 0, 43, 51, 95, 60, 84, 0, 0, 96, 139, 146, 145, 190, 212, 238, 381, 429, 486, 535, 600, 777, 889, 899, 932, 924]\n"
     ]
    }
   ],
   "source": [
    "year=[]\n",
    "medal_women_year=[]\n",
    "for i in dict1:\n",
    "    year.append(i)\n",
    "    medal_women_year.append(dict1[i])\n",
    "print(medal_women_year)    \n",
    "    "
   ]
  },
  {
   "cell_type": "code",
   "execution_count": 42,
   "id": "3695ffc7",
   "metadata": {},
   "outputs": [
    {
     "name": "stdout",
     "output_type": "stream",
     "text": [
      "[151, 501, 458, 789, 855, 0, 1255, 833, 615, 555, 791, 0, 0, 718, 750, 739, 737, 820, 819, 947, 924, 958, 973, 1011, 1105, 1082, 1126, 1099, 1110, 1025]\n"
     ]
    }
   ],
   "source": [
    "medal_men_year=[]\n",
    "for i in dict2:\n",
    "    medal_men_year.append(dict2[i])\n",
    "print(medal_men_year)"
   ]
  },
  {
   "cell_type": "markdown",
   "id": "8c9b3a1d",
   "metadata": {},
   "source": [
    "Women Growth per Year "
   ]
  },
  {
   "cell_type": "code",
   "execution_count": 44,
   "id": "116bb2d0",
   "metadata": {},
   "outputs": [
    {
     "data": {
      "image/png": "[encoded data removed]",
      "text/plain": [
       "<Figure size 432x288 with 1 Axes>"
      ]
     },
     "metadata": {
      "needs_background": "light"
     },
     "output_type": "display_data"
    }
   ],
   "source": [
    "plt.plot(medal_women_year,year,label=\"Medals by Women Yearwise\",color=\"Red\",marker=\".\");\n",
    "plt.minorticks_on();\n",
    "plt.grid(which=\"major\",axis=\"both\",c=\"#006400\");\n",
    "plt.grid(which=\"minor\",axis=\"both\",c=\"#EE9DEB\");\n",
    "plt.xlabel(\"No. of medals per year\");\n",
    "plt.ylabel(\"Year\");\n",
    "plt.legend();"
   ]
  },
  {
   "cell_type": "markdown",
   "id": "c39ffd08",
   "metadata": {},
   "source": [
    "Men Growth per Year"
   ]
  },
  {
   "cell_type": "code",
   "execution_count": 45,
   "id": "1e6d2701",
   "metadata": {},
   "outputs": [
    {
     "data": {
      "image/png": "[encoded data removed]",
      "text/plain": [
       "<Figure size 432x288 with 1 Axes>"
      ]
     },
     "metadata": {
      "needs_background": "light"
     },
     "output_type": "display_data"
    }
   ],
   "source": [
    "plt.plot(medal_men_year,year,label=\"Medals by Men yearwise\",color=\"Red\",marker=\".\");\n",
    "plt.minorticks_on();\n",
    "plt.grid(which=\"major\",axis=\"both\",c=\"#006400\");\n",
    "plt.grid(which=\"minor\",axis=\"both\",c=\"#EE9DEB\");\n",
    "plt.xlabel(\"No. of medals per year\");\n",
    "plt.ylabel(\"Year\");\n",
    "plt.legend();"
   ]
  },
  {
   "cell_type": "code",
   "execution_count": null,
   "id": "db02c043",
   "metadata": {},
   "outputs": [],
   "source": []
  }
 ],
 "metadata": {
  "kernelspec": {
   "display_name": "Python 3",
   "language": "python",
   "name": "python3"
  },
  "language_info": {
   "codemirror_mode": {
    "name": "ipython",
    "version": 3
   },
   "file_extension": ".py",
   "mimetype": "text/x-python",
   "name": "python",
   "nbconvert_exporter": "python",
   "pygments_lexer": "ipython3",
   "version": "3.8.8"
  }
 },
 "nbformat": 4,
 "nbformat_minor": 5
}
